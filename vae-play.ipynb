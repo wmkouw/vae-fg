{
 "cells": [
  {
   "cell_type": "code",
   "execution_count": 1,
   "metadata": {},
   "outputs": [
    {
     "name": "stderr",
     "output_type": "stream",
     "text": [
      "┌ Info: CUDAnative.jl failed to initialize, GPU functionality unavailable (set JULIA_CUDA_SILENT or JULIA_CUDA_VERBOSE to silence or expand this message)\n",
      "└ @ CUDAnative /home/wmkouw/.julia/packages/CUDAnative/hfulr/src/CUDAnative.jl:192\n"
     ]
    }
   ],
   "source": [
    "using Flux\n",
    "using MLDatasets\n",
    "using Flux.Data: DataLoader"
   ]
  },
  {
   "cell_type": "code",
   "execution_count": 3,
   "metadata": {},
   "outputs": [
    {
     "data": {
      "text/plain": [
       "DataLoader((Float32[0.0 0.0 … 0.0 0.0; 0.0 0.0 … 0.0 0.0; … ; 0.0 0.0 … 0.0 0.0; 0.0 0.0 … 0.0 0.0], [5, 0, 4, 1, 9, 2, 1, 3, 1, 4  …  9, 2, 9, 5, 1, 8, 3, 5, 6, 8]), 32, 60000, true, 60000, [1, 2, 3, 4, 5, 6, 7, 8, 9, 10  …  59991, 59992, 59993, 59994, 59995, 59996, 59997, 59998, 59999, 60000], true)"
      ]
     },
     "execution_count": 3,
     "metadata": {},
     "output_type": "execute_result"
    }
   ],
   "source": [
    "# Load data sets\n",
    "X,Y = MLDatasets.MNIST.traindata(Float32)\n",
    "\n",
    "# Image to vector\n",
    "X = reshape(X, 28^2, :)\n",
    "\n",
    "# Start DataLoader\n",
    "DataLoader(X,Y, batchsize=32, shuffle=true)"
   ]
  },
  {
   "cell_type": "code",
   "execution_count": 4,
   "metadata": {},
   "outputs": [
    {
     "data": {
      "text/plain": [
       "Encoder (generic function with 1 method)"
      ]
     },
     "execution_count": 4,
     "metadata": {},
     "output_type": "execute_result"
    }
   ],
   "source": [
    "function Encoder(x; input_dim=2, hidden_dim=3, latent_dim=1, nonlinearity=tanh)\n",
    "    \"Mapping from observed space to latent space\"\n",
    "\n",
    "    # Map input to hidden layer\n",
    "    h = Dense(input_dim, hidden_dim, nonlinearity)(x)\n",
    "\n",
    "    # Map hidden layer activity to mean and log-variance\n",
    "    μ = Dense(hidden_dim, latent_dim, nonlinearity)(h)\n",
    "    logσ = Dense(hidden_dim, latent_dim, nonlinearity)(h)\n",
    "\n",
    "    return μ, logσ\n",
    "end"
   ]
  },
  {
   "cell_type": "code",
   "execution_count": 5,
   "metadata": {},
   "outputs": [
    {
     "data": {
      "text/plain": [
       "Decoder (generic function with 1 method)"
      ]
     },
     "execution_count": 5,
     "metadata": {},
     "output_type": "execute_result"
    }
   ],
   "source": [
    "function Decoder(z; latent_dim=1, hidden_dim=3, input_dim=2, nonlinearity=tanh)\n",
    "   \"Mapping from latent space to observed space\" \n",
    "    \n",
    "    # Latent to hidden\n",
    "    h = Dense(latent_dim, hidden_dim, nonlinearity)(z)\n",
    "    \n",
    "    # Hidden to input\n",
    "    return Dense(hidden_dim, input_dim, nonlinearity)(h)\n",
    "end"
   ]
  },
  {
   "cell_type": "code",
   "execution_count": 9,
   "metadata": {},
   "outputs": [
    {
     "data": {
      "text/plain": [
       "loss (generic function with 1 method)"
      ]
     },
     "execution_count": 9,
     "metadata": {},
     "output_type": "execute_result"
    }
   ],
   "source": [
    "function loss(X, encoder, decoder; λ=0.1)\n",
    "    \"Loss layer\"\n",
    "    \n",
    "    # Number of samples\n",
    "    D,N = size(X)\n",
    "    \n",
    "    # Encode samples\n",
    "    μ, logσ = encoder(X)\n",
    "    \n",
    "    # Generate samples in latent space\n",
    "    z = μ + randn(Float32, (D,N)) .* exp.(logσ)\n",
    "    \n",
    "    # Decode generated samples\n",
    "    x_hat = decoder(z)\n",
    "   \n",
    "    # KL-divergence\n",
    "    KL = 0.5 * sum(@. (exp(2. *logσ) + μ^2 -1. - 2. *logσ)) / N\n",
    "\n",
    "    # Reconstruction error\n",
    "    logp_x_z = -sum(logitbinarycrossentropy.(x_hat, x)) / N\n",
    "    \n",
    "    # regularization\n",
    "    reg = λ * sum(x->sum(x.^2), Flux.params(decoder))\n",
    "\n",
    "    return -logp_x_z + KL + reg\n",
    "end"
   ]
  },
  {
   "cell_type": "code",
   "execution_count": null,
   "metadata": {},
   "outputs": [],
   "source": [
    "\n",
    "\n"
   ]
  }
 ],
 "metadata": {
  "kernelspec": {
   "display_name": "Julia 1.3.1",
   "language": "julia",
   "name": "julia-1.3"
  },
  "language_info": {
   "file_extension": ".jl",
   "mimetype": "application/julia",
   "name": "julia",
   "version": "1.3.1"
  }
 },
 "nbformat": 4,
 "nbformat_minor": 4
}
